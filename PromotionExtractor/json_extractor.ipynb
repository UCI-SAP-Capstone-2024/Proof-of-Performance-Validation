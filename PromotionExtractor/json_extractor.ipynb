{
 "cells": [
  {
   "cell_type": "code",
   "execution_count": 6,
   "metadata": {},
   "outputs": [],
   "source": [
    "import json"
   ]
  },
  {
   "cell_type": "code",
   "execution_count": 17,
   "metadata": {},
   "outputs": [],
   "source": [
    "promotion_dict = json.load(open('promotion.json'))"
   ]
  },
  {
   "cell_type": "code",
   "execution_count": null,
   "metadata": {},
   "outputs": [],
   "source": [
    "promotion_dict"
   ]
  },
  {
   "cell_type": "code",
   "execution_count": 19,
   "metadata": {},
   "outputs": [
    {
     "name": "stdout",
     "output_type": "stream",
     "text": [
      "Promotion ID: 1\n",
      "Promotion Name: COKE BRAND DIETCOKE CB-DISPLAY\n",
      "Promotion Type: DISPLAY\n",
      "Promotion Campaign Type: STORE DISPLAY\n",
      "Promotion Campaign Description: VONS - Exclusive Trade Promotion Display Promo\n",
      "\n",
      "Promotion Status: inProcess\n",
      "Promotion Status: released\n"
     ]
    }
   ],
   "source": [
    "# Promotion Product Details\n",
    "print(f\"Promotion ID: {promotion_dict['id']}\")\n",
    "print(f\"Promotion Name: {promotion_dict['promotionDescription']}\")\n",
    "print(f\"Promotion Type: {promotion_dict['promotionType']}\")\n",
    "print(f\"Promotion Campaign Type: {promotion_dict['promotionTypeText'][0]['campaignType']}\")\n",
    "print(f\"Promotion Campaign Description: {promotion_dict['promotionTypeText'][0]['description']}\")\n",
    "print()\n",
    "for promotion_status in promotion_dict['promotionStatus']:\n",
    "    print(f\"Promotion Status: {promotion_status}\")\n"
   ]
  },
  {
   "cell_type": "code",
   "execution_count": 13,
   "metadata": {},
   "outputs": [
    {
     "name": "stdout",
     "output_type": "stream",
     "text": [
      "Promotion Period Type: SELL_IN\n",
      "Promotion Start Date: 02-18-24\n",
      "Promotion End Date: 02-24-24\n",
      "\n",
      "Promotion Period Type: SELL_OUT\n",
      "Promotion Start Date: 02-18-24\n",
      "Promotion End Date: 02-24-24\n",
      "\n"
     ]
    }
   ],
   "source": [
    "# Promotion Duration Details\n",
    "for promotion_period in promotion_dict['promotionDates']:\n",
    "    print(f\"Promotion Period Type: {promotion_period['promotionDateTypeCode']}\")\n",
    "    print(f\"Promotion Start Date: {promotion_period['validFrom']}\")\n",
    "    print(f\"Promotion End Date: {promotion_period['validTo']}\")\n",
    "    print()"
   ]
  },
  {
   "cell_type": "code",
   "execution_count": 11,
   "metadata": {},
   "outputs": [
    {
     "name": "stdout",
     "output_type": "stream",
     "text": [
      "Promotion Tactic Type: car display with coca cola cans\n",
      "Promotion Tactic Location: center of store\n",
      "Promotion Tactic Location Type: center of store\n"
     ]
    }
   ],
   "source": [
    "# Promotion Tactic Details\n",
    "print(f\"Promotion Tactic Type: {promotion_dict['tacticType']['description']}\")\n",
    "print(f\"Promotion Tactic Location: {promotion_dict['tacticType']['location']}\")\n",
    "print(f\"Promotion Tactic Location Type: {promotion_dict['tacticType']['locationType']}\")"
   ]
  },
  {
   "cell_type": "code",
   "execution_count": 15,
   "metadata": {},
   "outputs": [
    {
     "name": "stdout",
     "output_type": "stream",
     "text": [
      "Promotion Customer ID: 000001\n",
      "Promotion Customer Hierarchy ID: 00000001\n",
      "Promotion Customer Hierarchy Type: H1\n",
      "\n",
      "Promotion Product ID: 0000000001\n",
      "Promotion Product Hierarchy Key: None\n"
     ]
    }
   ],
   "source": [
    "# Promotion Customer Details\n",
    "print(f\"Promotion Customer ID: {promotion_dict['promotionCustomer']['promotionCustomerId']}\")\n",
    "print(f\"Promotion Customer Hierarchy ID: {promotion_dict['promotionCustomer']['customerHierarchyNodeKey']['hierarchyId']}\")\n",
    "print(f\"Promotion Customer Hierarchy Type: {promotion_dict['promotionCustomer']['customerHierarchyNodeKey']['customerHierarchyTypeCode']}\")\n",
    "print()\n",
    "\n",
    "for promotion_product in promotion_dict['promotionProducts']:\n",
    "    print(f\"Promotion Product ID: {promotion_product['productId']}\")\n",
    "    print(f\"Promotion Product Hierarchy Key: {promotion_product['productHierarchyNodeKey']}\")"
   ]
  },
  {
   "cell_type": "code",
   "execution_count": null,
   "metadata": {},
   "outputs": [],
   "source": []
  }
 ],
 "metadata": {
  "kernelspec": {
   "display_name": "Python 3 (ipykernel)",
   "language": "python",
   "name": "python3"
  },
  "language_info": {
   "codemirror_mode": {
    "name": "ipython",
    "version": 3
   },
   "file_extension": ".py",
   "mimetype": "text/x-python",
   "name": "python",
   "nbconvert_exporter": "python",
   "pygments_lexer": "ipython3",
   "version": "3.11.5"
  },
  "orig_nbformat": 4
 },
 "nbformat": 4,
 "nbformat_minor": 2
}
