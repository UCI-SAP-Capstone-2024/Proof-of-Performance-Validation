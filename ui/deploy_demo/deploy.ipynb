{
 "cells": [
  {
   "cell_type": "code",
   "execution_count": null,
   "metadata": {},
   "outputs": [],
   "source": [
    "!wget https://bin.equinox.io/c/4VmDzA7iaHb/ngrok-stable-linux-amd64.zip\n",
    "!unzip -o ngrok-stable-linux-amd64.zip\n",
    "!pip install --quiet pyngrok\n",
    "!pip install --no-dependencies --quiet protobuf==3.20.*   #==4.21.12\n",
    "!pip install --no-dependencies --quiet validators\n",
    "!ngrok authtoken 2g4WLipEiEC1hhEywDkmTzTDrbb_2vAfGt496kdkyQZzUDnUx"
   ]
  },
  {
   "cell_type": "code",
   "execution_count": null,
   "metadata": {},
   "outputs": [],
   "source": [
    "!pip install flask-ngrok"
   ]
  },
  {
   "cell_type": "code",
   "execution_count": 2,
   "metadata": {},
   "outputs": [
    {
     "name": "stdout",
     "output_type": "stream",
     "text": [
      "Please click on the text below NgrokTunnel: \"https://1ce6-169-234-48-161.ngrok-free.app\" -> \"http://localhost:80\"\n"
     ]
    }
   ],
   "source": [
    "from pyngrok import ngrok\n",
    "\n",
    "public_url = ngrok.connect()\n",
    "print(f\"Please click on the text below {public_url}\")\n"
   ]
  },
  {
   "cell_type": "code",
   "execution_count": 8,
   "metadata": {},
   "outputs": [
    {
     "name": "stdout",
     "output_type": "stream",
     "text": [
      "Overwriting my_app.py\n"
     ]
    }
   ],
   "source": [
    "%%writefile my_app.py\n",
    "import streamlit as st \n",
    "import matplotlib.pyplot as plt\n",
    "from PIL import Image\n",
    "import pickle\n",
    "import pandas as pd\n",
    "import sys\n",
    "import os\n",
    "\n",
    "from pprint import pprint\n",
    "import cv2\n",
    "\n",
    "from matplotlib import pyplot as plt\n",
    "import numpy as np\n",
    "\n",
    "# import utils\n",
    "# utils.print_HI()\n",
    "\n",
    "from datetime import datetime\n",
    "\n",
    "# DATA SET PREPARATION AND LOADING\n",
    "from detectron2.data import DatasetCatalog, MetadataCatalog\n",
    "\n",
    "# VISUALIZATION\n",
    "from detectron2.utils.visualizer import Visualizer\n",
    "from detectron2.utils.visualizer import ColorMode\n",
    "\n",
    "sys.path.insert(1, os.path.abspath(\"./coordinate_utils/\"))\n",
    "\n",
    "\n",
    "# import utils\n",
    "# utils.print_HI()\n",
    "\n",
    "@st.cache_data\n",
    "def process_image_and_get_predictions(image):\n",
    "    # Process your image and get predictions here\n",
    "    model = pickle.load(open('../../savedModel.sav', 'rb'))\n",
    "    outputsRaw = model(image)  # Assuming model is already loaded\n",
    "    v = Visualizer(image[:, :, ::-1],\n",
    "                   metadata=MetadataCatalog.get(\"my_dataset_train\"), \n",
    "                   scale=0.5, \n",
    "                   instance_mode=ColorMode.IMAGE  # remove the colors of unsegmented pixels. This option is only available for segmentation models\n",
    "    )\n",
    "    # x = outputsRaw[\"instances\"].pred_classes.cpu().numpy()\n",
    "    # most_frequent_class = np.bincount(x).argmax()\n",
    "    # if most_frequent_class == 7:\n",
    "    #     most_frequent_class = \"Red Bull\"\n",
    "    # most_frequent_class = \"Coca Cola\"\n",
    "    most_frequent_class =\"\"\n",
    "    out = v.draw_instance_predictions(outputsRaw[\"instances\"].to(\"cpu\"))\n",
    "    plt.imshow(cv2.cvtColor(out.get_image()[:, :, ::-1], cv2.COLOR_BGR2RGB))\n",
    "    plt.show()\n",
    "    return out.get_image(), most_frequent_class\n",
    "\n",
    "\n",
    "def resize_image(image, width, height):\n",
    "    return image.resize((width, height))\n",
    "\n",
    "st.title('Proof of Performance - Validation')\n",
    "\n",
    "# uploaded_file = st.file_uploader(\"Choose an image...\", type=[\"jpg\", \"jpeg\", \"png\"])\n",
    "\n",
    "# if uploaded_file is not None:\n",
    "#     image = Image.open(uploaded_file)\n",
    "#     image_np = cv2.cvtColor(np.array(image), cv2.COLOR_RGB2BGR)  # Convert PIL image to numpy array\n",
    "#     st.image(image, caption='Uploaded Image.', use_column_width=True)\n",
    "    \n",
    "#     if st.button('Process Image'):\n",
    "#         processed_image, detected_class = process_image_and_get_predictions(image_np)\n",
    "#         # matched_store = utils.match_promotion_to_retailer(image, detected_class)\n",
    "#         # st.markdown(matched_store[\"store\"] + \": \" + matched_store[\"address\"])\n",
    "#         # st.success(\"Promotion matched to store: \" + matched_store[\"store_id\"] + \" at \" + matched_store[\"address\"] + \" with product: \" + matched_store[\"product\"])\n",
    "#         st.image(processed_image, caption='Processed Image.', use_column_width=True)\n",
    "\n",
    "uploaded_files = st.file_uploader(\"Choose multiple images...\", accept_multiple_files=True, type=[\"jpg\", \"jpeg\", \"png\"])\n",
    "\n",
    "if uploaded_files:\n",
    "    if st.button('Process Images'):\n",
    "        num_columns = 1  # Number of columns in the grid\n",
    "        num_images = len(uploaded_files)\n",
    "        num_rows = (num_images + num_columns - 1) // num_columns  # Calculate the number of rows needed\n",
    "        \n",
    "        # Create an empty list to store the processed images\n",
    "        processed_images = []\n",
    "        detected_classes = []\n",
    "        resized_images = []\n",
    "\n",
    "        # Process and store each uploaded image\n",
    "        for uploaded_file in uploaded_files:\n",
    "            image = Image.open(uploaded_file)\n",
    "            image_np = cv2.cvtColor(np.array(image), cv2.COLOR_RGB2BGR)  # Convert PIL image to numpy array\n",
    "            \n",
    "            processed_image, detected_class = process_image_and_get_predictions(image_np)\n",
    "            processed_images.append(processed_image)\n",
    "            detected_classes.append(detected_class)\n",
    "\n",
    "            # Resize the image for display in the grid\n",
    "            # resized_image = resize_image(Image.fromarray(processed_image), 330, 330)\n",
    "            # resized_images.append(resized_image)\n",
    "        \n",
    "        # Display the processed images in a grid\n",
    "        for i in range(num_rows):\n",
    "            cols = st.columns(num_columns)  # Create columns for each image in the row\n",
    "            for j in range(num_columns):\n",
    "                idx = i * num_columns + j\n",
    "                if idx < num_images:\n",
    "                    # Display the image in the column\n",
    "                    with cols[j]:\n",
    "                        # Show the image with its caption\n",
    "                        st.image(processed_images[idx], caption=detected_classes[idx], use_column_width=False)\n",
    "                        # st.success(f\"Promotion Matched to Promo #1003!\")\n",
    "                        "
   ]
  },
  {
   "cell_type": "code",
   "execution_count": null,
   "metadata": {},
   "outputs": [],
   "source": [
    "!pip install --no-dependencies --quiet streamlit"
   ]
  },
  {
   "cell_type": "code",
   "execution_count": 9,
   "metadata": {},
   "outputs": [
    {
     "name": "stderr",
     "output_type": "stream",
     "text": [
      "2024-05-23 15:29:31.919 Port 80 is already in use\n"
     ]
    }
   ],
   "source": [
    "!streamlit run --server.port 80 my_app.py"
   ]
  }
 ],
 "metadata": {
  "kernelspec": {
   "display_name": "Capstone",
   "language": "python",
   "name": "python3"
  },
  "language_info": {
   "codemirror_mode": {
    "name": "ipython",
    "version": 3
   },
   "file_extension": ".py",
   "mimetype": "text/x-python",
   "name": "python",
   "nbconvert_exporter": "python",
   "pygments_lexer": "ipython3",
   "version": "3.11.5"
  },
  "orig_nbformat": 4
 },
 "nbformat": 4,
 "nbformat_minor": 2
}
